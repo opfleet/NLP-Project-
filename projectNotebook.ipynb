{
 "cells": [
  {
   "cell_type": "code",
   "execution_count": 1,
   "metadata": {},
   "outputs": [
    {
     "name": "stderr",
     "output_type": "stream",
     "text": [
      "/var/folders/6v/npbkg9_919s0m2j5qd702gf00000gn/T/ipykernel_20915/2055365162.py:2: DeprecationWarning: \n",
      "Pyarrow will become a required dependency of pandas in the next major release of pandas (pandas 3.0),\n",
      "(to allow more performant data types, such as the Arrow string type, and better interoperability with other libraries)\n",
      "but was not found to be installed on your system.\n",
      "If this would cause problems for you,\n",
      "please provide us feedback at https://github.com/pandas-dev/pandas/issues/54466\n",
      "        \n",
      "  import pandas as pd\n"
     ]
    }
   ],
   "source": [
    "from naiveModel import NBLangIDModel\n",
    "import pandas as pd\n",
    "from sklearn.model_selection import train_test_split\n"
   ]
  },
  {
   "cell_type": "code",
   "execution_count": 2,
   "metadata": {},
   "outputs": [],
   "source": [
    "%load_ext autoreload\n",
    "%autoreload 2"
   ]
  },
  {
   "cell_type": "code",
   "execution_count": 3,
   "metadata": {},
   "outputs": [],
   "source": [
    "naiveBayes = NBLangIDModel()\n"
   ]
  },
  {
   "cell_type": "code",
   "execution_count": 4,
   "metadata": {},
   "outputs": [
    {
     "name": "stdout",
     "output_type": "stream",
     "text": [
      "Shape before dropping NaN values: (42661, 5)\n",
      "Shape after dropping NaN values: (37478, 5)\n"
     ]
    }
   ],
   "source": [
    "# load data, train test split\n",
    "descriptions = pd.read_csv(\"cleanedData.csv\")\n",
    "\n",
    "print(\"Shape before dropping NaN values:\", descriptions.shape)\n",
    "descriptions = descriptions.dropna()\n",
    "print(\"Shape after dropping NaN values:\", descriptions.shape)\n",
    "\n",
    "#TESTING THIS\n",
    "# print(\"Rows to be dropped:\")\n",
    "# print(descriptions[descriptions['description'].isna() | ~descriptions['description'].apply(lambda x: isinstance(x, str))])\n",
    "# #drop the 511 rows where description column is NaN or not a string\n",
    "# descriptions = descriptions.dropna(subset=['description'])\n",
    "# descriptions = descriptions[descriptions['description'].apply(lambda x: isinstance(x, str))]\n",
    "\n",
    "train, test = train_test_split(descriptions, test_size=0.2)"
   ]
  },
  {
   "cell_type": "code",
   "execution_count": 5,
   "metadata": {},
   "outputs": [
    {
     "data": {
      "text/html": [
       "<div>\n",
       "<style scoped>\n",
       "    .dataframe tbody tr th:only-of-type {\n",
       "        vertical-align: middle;\n",
       "    }\n",
       "\n",
       "    .dataframe tbody tr th {\n",
       "        vertical-align: top;\n",
       "    }\n",
       "\n",
       "    .dataframe thead th {\n",
       "        text-align: right;\n",
       "    }\n",
       "</style>\n",
       "<table border=\"1\" class=\"dataframe\">\n",
       "  <thead>\n",
       "    <tr style=\"text-align: right;\">\n",
       "      <th></th>\n",
       "      <th>description</th>\n",
       "      <th>genre1</th>\n",
       "      <th>genre2</th>\n",
       "      <th>genre3</th>\n",
       "    </tr>\n",
       "  </thead>\n",
       "  <tbody>\n",
       "    <tr>\n",
       "      <th>6202</th>\n",
       "      <td>The WINGS OF FIRE saga continues!Deep in the r...</td>\n",
       "      <td>'Fantasy'</td>\n",
       "      <td>'Dragons'</td>\n",
       "      <td>'Middle Grade'</td>\n",
       "    </tr>\n",
       "    <tr>\n",
       "      <th>28603</th>\n",
       "      <td>A summertime story only Elin Hilderbrand can t...</td>\n",
       "      <td>'Fiction'</td>\n",
       "      <td>'Chick Lit'</td>\n",
       "      <td>'Romance'</td>\n",
       "    </tr>\n",
       "    <tr>\n",
       "      <th>9532</th>\n",
       "      <td>The Wild Ass's Skin is Honoré de Balzac's 1831...</td>\n",
       "      <td>'Classics'</td>\n",
       "      <td>'France'</td>\n",
       "      <td>'Fiction'</td>\n",
       "    </tr>\n",
       "    <tr>\n",
       "      <th>39280</th>\n",
       "      <td>Astutely observed and deftly witty, One Perfec...</td>\n",
       "      <td>'Nonfiction'</td>\n",
       "      <td>'Sociology'</td>\n",
       "      <td>'Marriage'</td>\n",
       "    </tr>\n",
       "    <tr>\n",
       "      <th>16179</th>\n",
       "      <td>A murder story with a devilish twist.Nick want...</td>\n",
       "      <td>'Horror'</td>\n",
       "      <td>'Young Adult'</td>\n",
       "      <td>'Fantasy'</td>\n",
       "    </tr>\n",
       "    <tr>\n",
       "      <th>...</th>\n",
       "      <td>...</td>\n",
       "      <td>...</td>\n",
       "      <td>...</td>\n",
       "      <td>...</td>\n",
       "    </tr>\n",
       "    <tr>\n",
       "      <th>3733</th>\n",
       "      <td>Dead Wrong is a study of the scientific and fo...</td>\n",
       "      <td>'Nonfiction'</td>\n",
       "      <td>'True Crime'</td>\n",
       "      <td>'History'</td>\n",
       "    </tr>\n",
       "    <tr>\n",
       "      <th>24405</th>\n",
       "      <td>\"I have written about the joys of love. I have...</td>\n",
       "      <td>'Historical Fiction'</td>\n",
       "      <td>'Fiction'</td>\n",
       "      <td>'Historical'</td>\n",
       "    </tr>\n",
       "    <tr>\n",
       "      <th>38663</th>\n",
       "      <td>Caldecott Honor BookWhat happens when Sal and ...</td>\n",
       "      <td>'Picture Books'</td>\n",
       "      <td>'Childrens'</td>\n",
       "      <td>'Fiction'</td>\n",
       "    </tr>\n",
       "    <tr>\n",
       "      <th>21685</th>\n",
       "      <td>Terra Cotta Warriors have been discovered on o...</td>\n",
       "      <td>'Science Fiction'</td>\n",
       "      <td>'Young Adult'</td>\n",
       "      <td>'Fantasy'</td>\n",
       "    </tr>\n",
       "    <tr>\n",
       "      <th>39670</th>\n",
       "      <td>New York Times and USA Today bestselling autho...</td>\n",
       "      <td>'Paranormal Romance'</td>\n",
       "      <td>'Romance'</td>\n",
       "      <td>'Paranormal'</td>\n",
       "    </tr>\n",
       "  </tbody>\n",
       "</table>\n",
       "<p>7496 rows × 4 columns</p>\n",
       "</div>"
      ],
      "text/plain": [
       "                                             description  \\\n",
       "6202   The WINGS OF FIRE saga continues!Deep in the r...   \n",
       "28603  A summertime story only Elin Hilderbrand can t...   \n",
       "9532   The Wild Ass's Skin is Honoré de Balzac's 1831...   \n",
       "39280  Astutely observed and deftly witty, One Perfec...   \n",
       "16179  A murder story with a devilish twist.Nick want...   \n",
       "...                                                  ...   \n",
       "3733   Dead Wrong is a study of the scientific and fo...   \n",
       "24405  \"I have written about the joys of love. I have...   \n",
       "38663  Caldecott Honor BookWhat happens when Sal and ...   \n",
       "21685  Terra Cotta Warriors have been discovered on o...   \n",
       "39670  New York Times and USA Today bestselling autho...   \n",
       "\n",
       "                     genre1          genre2           genre3  \n",
       "6202              'Fantasy'       'Dragons'   'Middle Grade'  \n",
       "28603             'Fiction'     'Chick Lit'        'Romance'  \n",
       "9532             'Classics'        'France'        'Fiction'  \n",
       "39280          'Nonfiction'     'Sociology'       'Marriage'  \n",
       "16179              'Horror'   'Young Adult'        'Fantasy'  \n",
       "...                     ...             ...              ...  \n",
       "3733           'Nonfiction'    'True Crime'        'History'  \n",
       "24405  'Historical Fiction'       'Fiction'     'Historical'  \n",
       "38663       'Picture Books'     'Childrens'        'Fiction'  \n",
       "21685     'Science Fiction'   'Young Adult'        'Fantasy'  \n",
       "39670  'Paranormal Romance'       'Romance'     'Paranormal'  \n",
       "\n",
       "[7496 rows x 4 columns]"
      ]
     },
     "execution_count": 5,
     "metadata": {},
     "output_type": "execute_result"
    }
   ],
   "source": [
    "train.drop(\"Unnamed: 0\", axis= 1)\n",
    "test.drop(\"Unnamed: 0\", axis= 1)"
   ]
  },
  {
   "cell_type": "code",
   "execution_count": 6,
   "metadata": {},
   "outputs": [],
   "source": [
    "train_X = train['description']\n",
    "train_y1 = train['genre1']\n",
    "train_y2 = train['genre2']\n",
    "train_y3 = train['genre3']"
   ]
  },
  {
   "cell_type": "code",
   "execution_count": 7,
   "metadata": {},
   "outputs": [],
   "source": [
    "# fit the NB model \n",
    "naiveBayes.fit(train_X.tolist(), train_y1.tolist())"
   ]
  },
  {
   "cell_type": "code",
   "execution_count": null,
   "metadata": {},
   "outputs": [],
   "source": []
  }
 ],
 "metadata": {
  "kernelspec": {
   "display_name": "ml-0451",
   "language": "python",
   "name": "python3"
  },
  "language_info": {
   "codemirror_mode": {
    "name": "ipython",
    "version": 3
   },
   "file_extension": ".py",
   "mimetype": "text/x-python",
   "name": "python",
   "nbconvert_exporter": "python",
   "pygments_lexer": "ipython3",
   "version": "3.9.18"
  }
 },
 "nbformat": 4,
 "nbformat_minor": 2
}
