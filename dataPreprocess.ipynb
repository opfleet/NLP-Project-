{
 "cells": [
  {
   "cell_type": "markdown",
   "metadata": {},
   "source": [
    "## Data Preprocessing and Cleaning "
   ]
  },
  {
   "cell_type": "code",
   "execution_count": 19,
   "metadata": {},
   "outputs": [],
   "source": [
    "import pandas as pd \n",
    "originalData = pd.read_csv('bookData.csv', converters={'genres': lambda x: x[1:-1].split(',')})"
   ]
  },
  {
   "cell_type": "markdown",
   "metadata": {},
   "source": [
    "Since our original dataset was structured with individual rows corresponding to specific books, encompassing various attributes including title, author, language, rating, isbn, summary, multiple genre tags associated with the book, a list of characters, and more, we needed to select only the relevant columns for our models to train on. These columns were the description, genre, and language columns. The language column was used to filter out books not written in English, and subsequently was also removed from the data. "
   ]
  },
  {
   "cell_type": "code",
   "execution_count": 20,
   "metadata": {},
   "outputs": [
    {
     "data": {
      "text/html": [
       "<div>\n",
       "<style scoped>\n",
       "    .dataframe tbody tr th:only-of-type {\n",
       "        vertical-align: middle;\n",
       "    }\n",
       "\n",
       "    .dataframe tbody tr th {\n",
       "        vertical-align: top;\n",
       "    }\n",
       "\n",
       "    .dataframe thead th {\n",
       "        text-align: right;\n",
       "    }\n",
       "</style>\n",
       "<table border=\"1\" class=\"dataframe\">\n",
       "  <thead>\n",
       "    <tr style=\"text-align: right;\">\n",
       "      <th></th>\n",
       "      <th>description</th>\n",
       "      <th>genres</th>\n",
       "    </tr>\n",
       "  </thead>\n",
       "  <tbody>\n",
       "    <tr>\n",
       "      <th>0</th>\n",
       "      <td>WINNING MEANS FAME AND FORTUNE.LOSING MEANS CE...</td>\n",
       "      <td>['Young Adult',  'Fiction',  'Dystopia',  'Fan...</td>\n",
       "    </tr>\n",
       "    <tr>\n",
       "      <th>1</th>\n",
       "      <td>There is a door at the end of a silent corrido...</td>\n",
       "      <td>['Fantasy',  'Young Adult',  'Fiction',  'Magi...</td>\n",
       "    </tr>\n",
       "    <tr>\n",
       "      <th>2</th>\n",
       "      <td>The unforgettable novel of a childhood in a sl...</td>\n",
       "      <td>['Classics',  'Fiction',  'Historical Fiction'...</td>\n",
       "    </tr>\n",
       "    <tr>\n",
       "      <th>3</th>\n",
       "      <td>Alternate cover edition of ISBN 9780679783268S...</td>\n",
       "      <td>['Classics',  'Fiction',  'Romance',  'Histori...</td>\n",
       "    </tr>\n",
       "    <tr>\n",
       "      <th>4</th>\n",
       "      <td>About three things I was absolutely positive.\\...</td>\n",
       "      <td>['Young Adult',  'Fantasy',  'Romance',  'Vamp...</td>\n",
       "    </tr>\n",
       "    <tr>\n",
       "      <th>...</th>\n",
       "      <td>...</td>\n",
       "      <td>...</td>\n",
       "    </tr>\n",
       "    <tr>\n",
       "      <th>52473</th>\n",
       "      <td>The Fateful Trilogy continues with Fractured. ...</td>\n",
       "      <td>['Vampires',  'Paranormal',  'Young Adult',  '...</td>\n",
       "    </tr>\n",
       "    <tr>\n",
       "      <th>52474</th>\n",
       "      <td>'Anasazi', sequel to 'The Thirteenth Chime' by...</td>\n",
       "      <td>['Mystery',  'Young Adult']</td>\n",
       "    </tr>\n",
       "    <tr>\n",
       "      <th>52475</th>\n",
       "      <td>--READERS FAVORITE AWARDS WINNER 2011--Sixteen...</td>\n",
       "      <td>['Fantasy',  'Young Adult',  'Paranormal',  'A...</td>\n",
       "    </tr>\n",
       "    <tr>\n",
       "      <th>52476</th>\n",
       "      <td>A POWERFUL TREMOR UNEARTHS AN ANCIENT SECRETBu...</td>\n",
       "      <td>['Fiction',  'Mystery',  'Historical Fiction',...</td>\n",
       "    </tr>\n",
       "    <tr>\n",
       "      <th>52477</th>\n",
       "      <td>Fighting in Helaman's army is Keturah's deepes...</td>\n",
       "      <td>['Lds Fiction',  'Historical Fiction',  'Young...</td>\n",
       "    </tr>\n",
       "  </tbody>\n",
       "</table>\n",
       "<p>42661 rows × 2 columns</p>\n",
       "</div>"
      ],
      "text/plain": [
       "                                             description  \\\n",
       "0      WINNING MEANS FAME AND FORTUNE.LOSING MEANS CE...   \n",
       "1      There is a door at the end of a silent corrido...   \n",
       "2      The unforgettable novel of a childhood in a sl...   \n",
       "3      Alternate cover edition of ISBN 9780679783268S...   \n",
       "4      About three things I was absolutely positive.\\...   \n",
       "...                                                  ...   \n",
       "52473  The Fateful Trilogy continues with Fractured. ...   \n",
       "52474  'Anasazi', sequel to 'The Thirteenth Chime' by...   \n",
       "52475  --READERS FAVORITE AWARDS WINNER 2011--Sixteen...   \n",
       "52476  A POWERFUL TREMOR UNEARTHS AN ANCIENT SECRETBu...   \n",
       "52477  Fighting in Helaman's army is Keturah's deepes...   \n",
       "\n",
       "                                                  genres  \n",
       "0      ['Young Adult',  'Fiction',  'Dystopia',  'Fan...  \n",
       "1      ['Fantasy',  'Young Adult',  'Fiction',  'Magi...  \n",
       "2      ['Classics',  'Fiction',  'Historical Fiction'...  \n",
       "3      ['Classics',  'Fiction',  'Romance',  'Histori...  \n",
       "4      ['Young Adult',  'Fantasy',  'Romance',  'Vamp...  \n",
       "...                                                  ...  \n",
       "52473  ['Vampires',  'Paranormal',  'Young Adult',  '...  \n",
       "52474                        ['Mystery',  'Young Adult']  \n",
       "52475  ['Fantasy',  'Young Adult',  'Paranormal',  'A...  \n",
       "52476  ['Fiction',  'Mystery',  'Historical Fiction',...  \n",
       "52477  ['Lds Fiction',  'Historical Fiction',  'Young...  \n",
       "\n",
       "[42661 rows x 2 columns]"
      ]
     },
     "execution_count": 20,
     "metadata": {},
     "output_type": "execute_result"
    }
   ],
   "source": [
    "keepColumns = [ \"description\", \"genres\", \"language\"]\n",
    "cleanedData = originalData[keepColumns].copy()\n",
    "# obtain only books written in english \n",
    "cleanedData = cleanedData[cleanedData['language'] == 'English']\n",
    "cleanedData = cleanedData.drop(columns='language')\n"
   ]
  },
  {
   "cell_type": "markdown",
   "metadata": {},
   "source": [
    "We quickly realized that our 311 possible classes of genres were simply too many, and would hinder our models performance. Thus we found the top 10 most frequent genres, replacing any other genres instead with the label of 'other' in our dataset. We proceeded with splitting these lists of three genres into individual columns in order to simplify our models' prediction process. There were also leading spaces on some of the genres, which we stripped."
   ]
  },
  {
   "cell_type": "code",
   "execution_count": 21,
   "metadata": {},
   "outputs": [
    {
     "data": {
      "text/html": [
       "<div>\n",
       "<style scoped>\n",
       "    .dataframe tbody tr th:only-of-type {\n",
       "        vertical-align: middle;\n",
       "    }\n",
       "\n",
       "    .dataframe tbody tr th {\n",
       "        vertical-align: top;\n",
       "    }\n",
       "\n",
       "    .dataframe thead th {\n",
       "        text-align: right;\n",
       "    }\n",
       "</style>\n",
       "<table border=\"1\" class=\"dataframe\">\n",
       "  <thead>\n",
       "    <tr style=\"text-align: right;\">\n",
       "      <th></th>\n",
       "      <th>description</th>\n",
       "      <th>genres</th>\n",
       "    </tr>\n",
       "  </thead>\n",
       "  <tbody>\n",
       "    <tr>\n",
       "      <th>0</th>\n",
       "      <td>WINNING MEANS FAME AND FORTUNE.LOSING MEANS CE...</td>\n",
       "      <td>['Young Adult', 'Fiction', 'Dystopia', 'Fantas...</td>\n",
       "    </tr>\n",
       "    <tr>\n",
       "      <th>1</th>\n",
       "      <td>There is a door at the end of a silent corrido...</td>\n",
       "      <td>['Fantasy', 'Young Adult', 'Fiction', 'Magic',...</td>\n",
       "    </tr>\n",
       "    <tr>\n",
       "      <th>2</th>\n",
       "      <td>The unforgettable novel of a childhood in a sl...</td>\n",
       "      <td>['Classics', 'Fiction', 'Historical Fiction', ...</td>\n",
       "    </tr>\n",
       "    <tr>\n",
       "      <th>3</th>\n",
       "      <td>Alternate cover edition of ISBN 9780679783268S...</td>\n",
       "      <td>['Classics', 'Fiction', 'Romance', 'Historical...</td>\n",
       "    </tr>\n",
       "    <tr>\n",
       "      <th>4</th>\n",
       "      <td>About three things I was absolutely positive.\\...</td>\n",
       "      <td>['Young Adult', 'Fantasy', 'Romance', 'Vampire...</td>\n",
       "    </tr>\n",
       "  </tbody>\n",
       "</table>\n",
       "</div>"
      ],
      "text/plain": [
       "                                         description  \\\n",
       "0  WINNING MEANS FAME AND FORTUNE.LOSING MEANS CE...   \n",
       "1  There is a door at the end of a silent corrido...   \n",
       "2  The unforgettable novel of a childhood in a sl...   \n",
       "3  Alternate cover edition of ISBN 9780679783268S...   \n",
       "4  About three things I was absolutely positive.\\...   \n",
       "\n",
       "                                              genres  \n",
       "0  ['Young Adult', 'Fiction', 'Dystopia', 'Fantas...  \n",
       "1  ['Fantasy', 'Young Adult', 'Fiction', 'Magic',...  \n",
       "2  ['Classics', 'Fiction', 'Historical Fiction', ...  \n",
       "3  ['Classics', 'Fiction', 'Romance', 'Historical...  \n",
       "4  ['Young Adult', 'Fantasy', 'Romance', 'Vampire...  "
      ]
     },
     "execution_count": 21,
     "metadata": {},
     "output_type": "execute_result"
    }
   ],
   "source": [
    "#creating a dictionary of all the genres to see what we're working with \n",
    "genreVocab = {}\n",
    "\n",
    "for i in range(len(cleanedData['genres'])):\n",
    "    \n",
    "    for j in range(len(cleanedData.iloc[i, 1])):\n",
    "        cleanedData.iloc[i, 1][j] = cleanedData.iloc[i, 1][j].strip()\n",
    "        currLabel = cleanedData.iloc[i, 1][j]\n",
    "        if currLabel not in genreVocab:\n",
    "            genreVocab.update({currLabel: 1})\n",
    "        else:\n",
    "            genreVocab[currLabel] = genreVocab[currLabel] + 1\n",
    "\n",
    "cleanedData.head()"
   ]
  },
  {
   "cell_type": "markdown",
   "metadata": {},
   "source": [
    "Deleting extraneous labels from the dataset."
   ]
  },
  {
   "cell_type": "code",
   "execution_count": 22,
   "metadata": {},
   "outputs": [],
   "source": [
    "del genreVocab[''] #ONLY RUN ONCE PER FULL RUN"
   ]
  },
  {
   "cell_type": "code",
   "execution_count": 23,
   "metadata": {},
   "outputs": [
    {
     "data": {
      "text/plain": [
       "{\"'Fiction'\": 27160,\n",
       " \"'Romance'\": 13633,\n",
       " \"'Fantasy'\": 13510,\n",
       " \"'Young Adult'\": 10578,\n",
       " \"'Contemporary'\": 9088,\n",
       " \"'Adult'\": 7562,\n",
       " \"'Mystery'\": 6980,\n",
       " \"'Nonfiction'\": 6814,\n",
       " \"'Historical Fiction'\": 6641,\n",
       " \"'Audiobook'\": 6570}"
      ]
     },
     "execution_count": 23,
     "metadata": {},
     "output_type": "execute_result"
    }
   ],
   "source": [
    "#dictionary of all the genre and their counts, slicing for the top 10 in order to increase model classification performance\n",
    "finalGenreVocab = dict(sorted(genreVocab.items(), key= lambda x: x[1], reverse= True)[:10])\n",
    "finalGenreVocab"
   ]
  },
  {
   "cell_type": "markdown",
   "metadata": {},
   "source": [
    "For each data point, taking the top 3 most relevant data points."
   ]
  },
  {
   "cell_type": "code",
   "execution_count": 24,
   "metadata": {},
   "outputs": [
    {
     "data": {
      "text/plain": [
       "[\"'Historical Fiction'\",\n",
       " \"'Young Adult'\",\n",
       " \"'Fiction'\",\n",
       " \"'Fantasy'\",\n",
       " \"'Romance'\"]"
      ]
     },
     "execution_count": 24,
     "metadata": {},
     "output_type": "execute_result"
    }
   ],
   "source": [
    "for i in range(len(cleanedData['genres'])):\n",
    "    \n",
    "    labelsInVocab = []\n",
    "    for j in range(len(cleanedData.iloc[i, 1])):\n",
    "        if cleanedData.iloc[i, 1][j] in finalGenreVocab:\n",
    "            labelsInVocab.append(cleanedData.iloc[i, 1][j])\n",
    "    cleanedData.iloc[i, 1] = labelsInVocab[0:3]\n",
    "\n"
   ]
  },
  {
   "cell_type": "markdown",
   "metadata": {},
   "source": [
    "Splitting the vector of three genres into individual feature columns for Naive Bayes input."
   ]
  },
  {
   "cell_type": "code",
   "execution_count": 7,
   "metadata": {},
   "outputs": [
    {
     "data": {
      "text/html": [
       "<div>\n",
       "<style scoped>\n",
       "    .dataframe tbody tr th:only-of-type {\n",
       "        vertical-align: middle;\n",
       "    }\n",
       "\n",
       "    .dataframe tbody tr th {\n",
       "        vertical-align: top;\n",
       "    }\n",
       "\n",
       "    .dataframe thead th {\n",
       "        text-align: right;\n",
       "    }\n",
       "</style>\n",
       "<table border=\"1\" class=\"dataframe\">\n",
       "  <thead>\n",
       "    <tr style=\"text-align: right;\">\n",
       "      <th></th>\n",
       "      <th>description</th>\n",
       "      <th>genre1</th>\n",
       "      <th>genre2</th>\n",
       "      <th>genre3</th>\n",
       "    </tr>\n",
       "  </thead>\n",
       "  <tbody>\n",
       "    <tr>\n",
       "      <th>0</th>\n",
       "      <td>WINNING MEANS FAME AND FORTUNE.LOSING MEANS CE...</td>\n",
       "      <td>'Young Adult'</td>\n",
       "      <td>'Fiction'</td>\n",
       "      <td>'Fantasy'</td>\n",
       "    </tr>\n",
       "    <tr>\n",
       "      <th>1</th>\n",
       "      <td>There is a door at the end of a silent corrido...</td>\n",
       "      <td>'Fantasy'</td>\n",
       "      <td>'Young Adult'</td>\n",
       "      <td>'Fiction'</td>\n",
       "    </tr>\n",
       "    <tr>\n",
       "      <th>2</th>\n",
       "      <td>The unforgettable novel of a childhood in a sl...</td>\n",
       "      <td>'Fiction'</td>\n",
       "      <td>'Historical Fiction'</td>\n",
       "      <td>'Young Adult'</td>\n",
       "    </tr>\n",
       "    <tr>\n",
       "      <th>3</th>\n",
       "      <td>Alternate cover edition of ISBN 9780679783268S...</td>\n",
       "      <td>'Fiction'</td>\n",
       "      <td>'Romance'</td>\n",
       "      <td>'Historical Fiction'</td>\n",
       "    </tr>\n",
       "    <tr>\n",
       "      <th>4</th>\n",
       "      <td>About three things I was absolutely positive.\\...</td>\n",
       "      <td>'Young Adult'</td>\n",
       "      <td>'Fantasy'</td>\n",
       "      <td>'Romance'</td>\n",
       "    </tr>\n",
       "    <tr>\n",
       "      <th>...</th>\n",
       "      <td>...</td>\n",
       "      <td>...</td>\n",
       "      <td>...</td>\n",
       "      <td>...</td>\n",
       "    </tr>\n",
       "    <tr>\n",
       "      <th>52473</th>\n",
       "      <td>The Fateful Trilogy continues with Fractured. ...</td>\n",
       "      <td>'Young Adult'</td>\n",
       "      <td>'Romance'</td>\n",
       "      <td>'Fantasy'</td>\n",
       "    </tr>\n",
       "    <tr>\n",
       "      <th>52474</th>\n",
       "      <td>'Anasazi', sequel to 'The Thirteenth Chime' by...</td>\n",
       "      <td>'Mystery'</td>\n",
       "      <td>'Young Adult'</td>\n",
       "      <td>'Other'</td>\n",
       "    </tr>\n",
       "    <tr>\n",
       "      <th>52475</th>\n",
       "      <td>--READERS FAVORITE AWARDS WINNER 2011--Sixteen...</td>\n",
       "      <td>'Fantasy'</td>\n",
       "      <td>'Young Adult'</td>\n",
       "      <td>'Romance'</td>\n",
       "    </tr>\n",
       "    <tr>\n",
       "      <th>52476</th>\n",
       "      <td>A POWERFUL TREMOR UNEARTHS AN ANCIENT SECRETBu...</td>\n",
       "      <td>'Fiction'</td>\n",
       "      <td>'Mystery'</td>\n",
       "      <td>'Historical Fiction'</td>\n",
       "    </tr>\n",
       "    <tr>\n",
       "      <th>52477</th>\n",
       "      <td>Fighting in Helaman's army is Keturah's deepes...</td>\n",
       "      <td>'Historical Fiction'</td>\n",
       "      <td>'Young Adult'</td>\n",
       "      <td>'Fiction'</td>\n",
       "    </tr>\n",
       "  </tbody>\n",
       "</table>\n",
       "<p>42661 rows × 4 columns</p>\n",
       "</div>"
      ],
      "text/plain": [
       "                                             description  \\\n",
       "0      WINNING MEANS FAME AND FORTUNE.LOSING MEANS CE...   \n",
       "1      There is a door at the end of a silent corrido...   \n",
       "2      The unforgettable novel of a childhood in a sl...   \n",
       "3      Alternate cover edition of ISBN 9780679783268S...   \n",
       "4      About three things I was absolutely positive.\\...   \n",
       "...                                                  ...   \n",
       "52473  The Fateful Trilogy continues with Fractured. ...   \n",
       "52474  'Anasazi', sequel to 'The Thirteenth Chime' by...   \n",
       "52475  --READERS FAVORITE AWARDS WINNER 2011--Sixteen...   \n",
       "52476  A POWERFUL TREMOR UNEARTHS AN ANCIENT SECRETBu...   \n",
       "52477  Fighting in Helaman's army is Keturah's deepes...   \n",
       "\n",
       "                     genre1                genre2                genre3  \n",
       "0             'Young Adult'             'Fiction'             'Fantasy'  \n",
       "1                 'Fantasy'         'Young Adult'             'Fiction'  \n",
       "2                 'Fiction'  'Historical Fiction'         'Young Adult'  \n",
       "3                 'Fiction'             'Romance'  'Historical Fiction'  \n",
       "4             'Young Adult'             'Fantasy'             'Romance'  \n",
       "...                     ...                   ...                   ...  \n",
       "52473         'Young Adult'             'Romance'             'Fantasy'  \n",
       "52474             'Mystery'         'Young Adult'               'Other'  \n",
       "52475             'Fantasy'         'Young Adult'             'Romance'  \n",
       "52476             'Fiction'             'Mystery'  'Historical Fiction'  \n",
       "52477  'Historical Fiction'         'Young Adult'             'Fiction'  \n",
       "\n",
       "[42661 rows x 4 columns]"
      ]
     },
     "execution_count": 7,
     "metadata": {},
     "output_type": "execute_result"
    }
   ],
   "source": [
    "#split list of three genres into individual columns \n",
    "cleanedData[['genre1','genre2', 'genre3']] = pd.DataFrame(cleanedData.genres.tolist(), index= cleanedData.index)\n",
    "cleanedData = cleanedData.drop('genres', axis = 1)\n",
    "cleanedData = cleanedData.fillna(value= \"'Other'\")\n",
    "cleanedData"
   ]
  },
  {
   "cell_type": "markdown",
   "metadata": {},
   "source": [
    "We realized that our book descriptions contained a lot of unnecessary word terms that may affect our models' performance, so we utilized regular expressions (regex) to strip these phrases and words out. "
   ]
  },
  {
   "cell_type": "code",
   "execution_count": 8,
   "metadata": {},
   "outputs": [],
   "source": [
    "# removing librarians notes in the description \n",
    "import re \n",
    "\n",
    "#ensuring first that the description is a string \n",
    "cleanedData['description'] = cleanedData['description'].astype(str)\n",
    "\n",
    "def removeLibNote(description):\n",
    "    pattern = r\"[Ll]ibrarian's note\\s*:.+?\\.\"\n",
    "    return re.sub(pattern, '', description)\n",
    "\n",
    "#apply to dataset\n",
    "cleanedData['description'] = cleanedData['description'].apply(removeLibNote)"
   ]
  },
  {
   "cell_type": "code",
   "execution_count": 9,
   "metadata": {},
   "outputs": [],
   "source": [
    "#removing ISBNs in the description \n",
    "\n",
    "def removeISBN(description):\n",
    "    pattern = r\"ISBN\\s*\\d+(?=[a-zA-Z])\"\n",
    "    return re.sub(pattern, '', description)\n",
    "\n",
    "cleanedData['description'] = cleanedData['description'].apply(removeISBN)"
   ]
  },
  {
   "cell_type": "code",
   "execution_count": 10,
   "metadata": {},
   "outputs": [],
   "source": [
    "# removing things that say like \"new york times bestseller\"\n",
    "def removeNYBest(description):\n",
    "    pattern = r\"(From the)? (#1\\s)? New York Times bestselling (author)?\"\n",
    "    return re.sub(pattern, '', description)\n",
    "\n",
    "cleanedData['description'] = cleanedData['description'].apply(removeNYBest)\n"
   ]
  },
  {
   "cell_type": "code",
   "execution_count": 11,
   "metadata": {},
   "outputs": [],
   "source": [
    "# removing 15 occurences of \"Also see: Alternate Cover Editions for this ISBN [ACE]\"\n",
    "#pattern = r\"((Also see:)|([Tt]his book has) Alternate Cover Editions for this ISBN [ACE])|(Alternative Cover Edition)\"\n",
    "#have to split into multiple cases lmao i got too confused with the long regexes \n",
    "\n",
    "def removeAlternate1(description):\n",
    "    pattern = r\"Also see: ([Tt]his book has)? [Aa]lternate [Cc]over [Ee]ditions for this ISBN\"\n",
    "    return re.sub(pattern, '', description)\n",
    "\n",
    "cleanedData['description'] = cleanedData['description'].apply(removeAlternate1)\n"
   ]
  },
  {
   "cell_type": "code",
   "execution_count": 12,
   "metadata": {},
   "outputs": [],
   "source": [
    "#part 2 \n",
    "def removeAlternate2(description):\n",
    "    #this pattern is not perfect by any means lmao, there are so many forms of it in the data \n",
    "    pattern = r\"[Tt]his book has [Aa]lternate [Cc]over [Ee]ditions for this ISBN\"\n",
    "    return re.sub(pattern, '', description)\n",
    "\n",
    "cleanedData['description'] = cleanedData['description'].apply(removeAlternate2)"
   ]
  },
  {
   "cell_type": "code",
   "execution_count": 13,
   "metadata": {},
   "outputs": [],
   "source": [
    "def removeAlternate3(description):\n",
    "    #this pattern is not perfect by any means lmao, there are so many forms of it in the data \n",
    "    pattern = r\"[Ss]ee an alternate cover edition (here)?\"\n",
    "    return re.sub(pattern, '', description)\n",
    "\n",
    "cleanedData['description'] = cleanedData['description'].apply(removeAlternate3)"
   ]
  },
  {
   "cell_type": "code",
   "execution_count": 14,
   "metadata": {},
   "outputs": [],
   "source": [
    "def removeAlternate4(description):\n",
    "    #this pattern is not perfect by any means lmao, there are so many forms of it in the data \n",
    "    pattern = r\"[Aa]lternate [Cc]over [Ee]dition(:)?(ISBN)?(:)?\\s*\\d+(?=[a-zA-Z])\"\n",
    "    return re.sub(pattern, '', description)\n",
    "\n",
    "cleanedData['description'] = cleanedData['description'].apply(removeAlternate4)\n"
   ]
  },
  {
   "cell_type": "code",
   "execution_count": 15,
   "metadata": {},
   "outputs": [],
   "source": [
    "def removeAlternate5(description):\n",
    "    #this pattern is not perfect by any means lmao, there are so many forms of it in the data \n",
    "    pattern = r\"ACE\"\n",
    "    return re.sub(pattern, '', description)\n",
    "\n",
    "cleanedData['description'] = cleanedData['description'].apply(removeAlternate5)"
   ]
  },
  {
   "cell_type": "markdown",
   "metadata": {},
   "source": [
    "Finally we dropped all empty and missing values in our dataset, and saved our cleaned data to use in training our Naive Bayes and BERT models!"
   ]
  },
  {
   "cell_type": "code",
   "execution_count": 16,
   "metadata": {},
   "outputs": [
    {
     "name": "stdout",
     "output_type": "stream",
     "text": [
      "Shape before dropping NaN values: (42661, 4)\n",
      "Shape after dropping NaN values: (42661, 4)\n"
     ]
    }
   ],
   "source": [
    "# dropping empty/missing values\n",
    "cleanedData.dropna()"
   ]
  },
  {
   "cell_type": "code",
   "execution_count": 17,
   "metadata": {},
   "outputs": [],
   "source": [
    "#preliminary save to view \n",
    "cleanedData.to_csv('cleanedData.csv', index=True)"
   ]
  }
 ],
 "metadata": {
  "kernelspec": {
   "display_name": "ml-0451",
   "language": "python",
   "name": "python3"
  },
  "language_info": {
   "codemirror_mode": {
    "name": "ipython",
    "version": 3
   },
   "file_extension": ".py",
   "mimetype": "text/x-python",
   "name": "python",
   "nbconvert_exporter": "python",
   "pygments_lexer": "ipython3",
   "version": "3.9.18"
  }
 },
 "nbformat": 4,
 "nbformat_minor": 2
}
