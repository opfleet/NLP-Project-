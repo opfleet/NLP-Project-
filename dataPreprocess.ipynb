{
 "cells": [
  {
   "cell_type": "markdown",
   "metadata": {},
   "source": [
    "## Data Preprocessing and Cleaning "
   ]
  },
  {
   "cell_type": "code",
   "execution_count": 41,
   "metadata": {},
   "outputs": [],
   "source": [
    "import pandas as pd \n",
    "originalData = pd.read_csv('bookData.csv')"
   ]
  },
  {
   "cell_type": "code",
   "execution_count": 42,
   "metadata": {},
   "outputs": [
    {
     "data": {
      "text/html": [
       "<div>\n",
       "<style scoped>\n",
       "    .dataframe tbody tr th:only-of-type {\n",
       "        vertical-align: middle;\n",
       "    }\n",
       "\n",
       "    .dataframe tbody tr th {\n",
       "        vertical-align: top;\n",
       "    }\n",
       "\n",
       "    .dataframe thead th {\n",
       "        text-align: right;\n",
       "    }\n",
       "</style>\n",
       "<table border=\"1\" class=\"dataframe\">\n",
       "  <thead>\n",
       "    <tr style=\"text-align: right;\">\n",
       "      <th></th>\n",
       "      <th>title</th>\n",
       "      <th>description</th>\n",
       "      <th>genres</th>\n",
       "    </tr>\n",
       "  </thead>\n",
       "  <tbody>\n",
       "    <tr>\n",
       "      <th>0</th>\n",
       "      <td>The Hunger Games</td>\n",
       "      <td>WINNING MEANS FAME AND FORTUNE.LOSING MEANS CE...</td>\n",
       "      <td>['Young Adult', 'Fiction', 'Dystopia', 'Fantas...</td>\n",
       "    </tr>\n",
       "    <tr>\n",
       "      <th>1</th>\n",
       "      <td>Harry Potter and the Order of the Phoenix</td>\n",
       "      <td>There is a door at the end of a silent corrido...</td>\n",
       "      <td>['Fantasy', 'Young Adult', 'Fiction', 'Magic',...</td>\n",
       "    </tr>\n",
       "    <tr>\n",
       "      <th>2</th>\n",
       "      <td>To Kill a Mockingbird</td>\n",
       "      <td>The unforgettable novel of a childhood in a sl...</td>\n",
       "      <td>['Classics', 'Fiction', 'Historical Fiction', ...</td>\n",
       "    </tr>\n",
       "    <tr>\n",
       "      <th>3</th>\n",
       "      <td>Pride and Prejudice</td>\n",
       "      <td>Alternate cover edition of ISBN 9780679783268S...</td>\n",
       "      <td>['Classics', 'Fiction', 'Romance', 'Historical...</td>\n",
       "    </tr>\n",
       "    <tr>\n",
       "      <th>4</th>\n",
       "      <td>Twilight</td>\n",
       "      <td>About three things I was absolutely positive.\\...</td>\n",
       "      <td>['Young Adult', 'Fantasy', 'Romance', 'Vampire...</td>\n",
       "    </tr>\n",
       "    <tr>\n",
       "      <th>...</th>\n",
       "      <td>...</td>\n",
       "      <td>...</td>\n",
       "      <td>...</td>\n",
       "    </tr>\n",
       "    <tr>\n",
       "      <th>52473</th>\n",
       "      <td>Fractured</td>\n",
       "      <td>The Fateful Trilogy continues with Fractured. ...</td>\n",
       "      <td>['Vampires', 'Paranormal', 'Young Adult', 'Rom...</td>\n",
       "    </tr>\n",
       "    <tr>\n",
       "      <th>52474</th>\n",
       "      <td>Anasazi</td>\n",
       "      <td>'Anasazi', sequel to 'The Thirteenth Chime' by...</td>\n",
       "      <td>['Mystery', 'Young Adult']</td>\n",
       "    </tr>\n",
       "    <tr>\n",
       "      <th>52475</th>\n",
       "      <td>Marked</td>\n",
       "      <td>--READERS FAVORITE AWARDS WINNER 2011--Sixteen...</td>\n",
       "      <td>['Fantasy', 'Young Adult', 'Paranormal', 'Ange...</td>\n",
       "    </tr>\n",
       "    <tr>\n",
       "      <th>52476</th>\n",
       "      <td>Wayward Son</td>\n",
       "      <td>A POWERFUL TREMOR UNEARTHS AN ANCIENT SECRETBu...</td>\n",
       "      <td>['Fiction', 'Mystery', 'Historical Fiction', '...</td>\n",
       "    </tr>\n",
       "    <tr>\n",
       "      <th>52477</th>\n",
       "      <td>Daughter of Helaman</td>\n",
       "      <td>Fighting in Helaman's army is Keturah's deepes...</td>\n",
       "      <td>['Lds Fiction', 'Historical Fiction', 'Young A...</td>\n",
       "    </tr>\n",
       "  </tbody>\n",
       "</table>\n",
       "<p>42661 rows × 3 columns</p>\n",
       "</div>"
      ],
      "text/plain": [
       "                                           title  \\\n",
       "0                               The Hunger Games   \n",
       "1      Harry Potter and the Order of the Phoenix   \n",
       "2                          To Kill a Mockingbird   \n",
       "3                            Pride and Prejudice   \n",
       "4                                       Twilight   \n",
       "...                                          ...   \n",
       "52473                                  Fractured   \n",
       "52474                                    Anasazi   \n",
       "52475                                     Marked   \n",
       "52476                                Wayward Son   \n",
       "52477                        Daughter of Helaman   \n",
       "\n",
       "                                             description  \\\n",
       "0      WINNING MEANS FAME AND FORTUNE.LOSING MEANS CE...   \n",
       "1      There is a door at the end of a silent corrido...   \n",
       "2      The unforgettable novel of a childhood in a sl...   \n",
       "3      Alternate cover edition of ISBN 9780679783268S...   \n",
       "4      About three things I was absolutely positive.\\...   \n",
       "...                                                  ...   \n",
       "52473  The Fateful Trilogy continues with Fractured. ...   \n",
       "52474  'Anasazi', sequel to 'The Thirteenth Chime' by...   \n",
       "52475  --READERS FAVORITE AWARDS WINNER 2011--Sixteen...   \n",
       "52476  A POWERFUL TREMOR UNEARTHS AN ANCIENT SECRETBu...   \n",
       "52477  Fighting in Helaman's army is Keturah's deepes...   \n",
       "\n",
       "                                                  genres  \n",
       "0      ['Young Adult', 'Fiction', 'Dystopia', 'Fantas...  \n",
       "1      ['Fantasy', 'Young Adult', 'Fiction', 'Magic',...  \n",
       "2      ['Classics', 'Fiction', 'Historical Fiction', ...  \n",
       "3      ['Classics', 'Fiction', 'Romance', 'Historical...  \n",
       "4      ['Young Adult', 'Fantasy', 'Romance', 'Vampire...  \n",
       "...                                                  ...  \n",
       "52473  ['Vampires', 'Paranormal', 'Young Adult', 'Rom...  \n",
       "52474                         ['Mystery', 'Young Adult']  \n",
       "52475  ['Fantasy', 'Young Adult', 'Paranormal', 'Ange...  \n",
       "52476  ['Fiction', 'Mystery', 'Historical Fiction', '...  \n",
       "52477  ['Lds Fiction', 'Historical Fiction', 'Young A...  \n",
       "\n",
       "[42661 rows x 3 columns]"
      ]
     },
     "execution_count": 42,
     "metadata": {},
     "output_type": "execute_result"
    }
   ],
   "source": [
    "keepColumns = [\"title\", \"description\", \"genres\", \"language\"]\n",
    "cleanedData = originalData[keepColumns].copy()\n",
    "# obtain only books written in english \n",
    "cleanedData = cleanedData[cleanedData['language'] == 'English']\n",
    "cleanedData = cleanedData.drop(columns='language')\n",
    "cleanedData\n"
   ]
  },
  {
   "cell_type": "markdown",
   "metadata": {},
   "source": [
    "### note to self would be good to make a dataset at the end with only each books top three genres"
   ]
  },
  {
   "cell_type": "code",
   "execution_count": 43,
   "metadata": {},
   "outputs": [],
   "source": [
    "# removing librarians notes in the description \n",
    "import re \n",
    "\n",
    "#ensuring first that the description is a string \n",
    "cleanedData['description'] = cleanedData['description'].astype(str)\n",
    "\n",
    "def removeLibNote(description):\n",
    "    pattern = r\"[Ll]ibrarian's note\\s*:.+?\\.\"\n",
    "    return re.sub(pattern, '', description)\n",
    "\n",
    "#apply to dataset\n",
    "cleanedData['description'] = cleanedData['description'].apply(removeLibNote)"
   ]
  },
  {
   "cell_type": "code",
   "execution_count": 44,
   "metadata": {},
   "outputs": [],
   "source": [
    "#removing ISBNs in the description \n",
    "\n",
    "def removeISBN(description):\n",
    "    pattern = r\"ISBN\\s*\\d+(?=[a-zA-Z])\"\n",
    "    return re.sub(pattern, '', description)\n",
    "\n",
    "cleanedData['description'] = cleanedData['description'].apply(removeISBN)"
   ]
  },
  {
   "cell_type": "code",
   "execution_count": 45,
   "metadata": {},
   "outputs": [],
   "source": [
    "# removing things that say like \"new york times bestseller\"\n",
    "def removeNYBest(description):\n",
    "    pattern = r\"(From the)? (#1\\s)? New York Times bestselling (author)?\"\n",
    "    return re.sub(pattern, '', description)\n",
    "\n",
    "cleanedData['description'] = cleanedData['description'].apply(removeNYBest)\n"
   ]
  },
  {
   "cell_type": "code",
   "execution_count": 46,
   "metadata": {},
   "outputs": [],
   "source": [
    "# removing 15 occurences of \"Also see: Alternate Cover Editions for this ISBN [ACE]\"\n",
    "#pattern = r\"((Also see:)|([Tt]his book has) Alternate Cover Editions for this ISBN [ACE])|(Alternative Cover Edition)\"\n",
    "#have to split into multiple cases lmao i got too confused with the long regexes \n",
    "\n",
    "def removeAlternate1(description):\n",
    "    pattern = r\"Also see: ([Tt]his book has)? [Aa]lternate [Cc]over [Ee]ditions for this ISBN\"\n",
    "    return re.sub(pattern, '', description)\n",
    "\n",
    "cleanedData['description'] = cleanedData['description'].apply(removeAlternate1)\n"
   ]
  },
  {
   "cell_type": "code",
   "execution_count": 47,
   "metadata": {},
   "outputs": [],
   "source": [
    "#part 2 \n",
    "def removeAlternate2(description):\n",
    "    #this pattern is not perfect by any means lmao, there are so many forms of it in the data \n",
    "    pattern = r\"[Tt]his book has [Aa]lternate [Cc]over [Ee]ditions for this ISBN\"\n",
    "    return re.sub(pattern, '', description)\n",
    "\n",
    "cleanedData['description'] = cleanedData['description'].apply(removeAlternate2)"
   ]
  },
  {
   "cell_type": "code",
   "execution_count": 48,
   "metadata": {},
   "outputs": [],
   "source": [
    "def removeAlternate3(description):\n",
    "    #this pattern is not perfect by any means lmao, there are so many forms of it in the data \n",
    "    pattern = r\"[Ss]ee an alternate cover edition (here)?\"\n",
    "    return re.sub(pattern, '', description)\n",
    "\n",
    "cleanedData['description'] = cleanedData['description'].apply(removeAlternate3)"
   ]
  },
  {
   "cell_type": "code",
   "execution_count": 51,
   "metadata": {},
   "outputs": [],
   "source": [
    "def removeAlternate4(description):\n",
    "    #this pattern is not perfect by any means lmao, there are so many forms of it in the data \n",
    "    pattern = r\"[Aa]lternate [Cc]over [Ee]dition(:)?(ISBN)?(:)?\\s*\\d+(?=[a-zA-Z])\"\n",
    "    return re.sub(pattern, '', description)\n",
    "\n",
    "cleanedData['description'] = cleanedData['description'].apply(removeAlternate4)\n"
   ]
  },
  {
   "cell_type": "code",
   "execution_count": null,
   "metadata": {},
   "outputs": [],
   "source": [
    "def removeAlternate5(description):\n",
    "    #this pattern is not perfect by any means lmao, there are so many forms of it in the data \n",
    "    pattern = r\"ACE\"\n",
    "    return re.sub(pattern, '', description)\n",
    "\n",
    "cleanedData['description'] = cleanedData['description'].apply(removeAlternate5)"
   ]
  },
  {
   "cell_type": "code",
   "execution_count": 52,
   "metadata": {},
   "outputs": [],
   "source": [
    "#preliminary save to view \n",
    "cleanedData.to_csv('cleanedData.csv', index=True)"
   ]
  }
 ],
 "metadata": {
  "kernelspec": {
   "display_name": "ml-0451",
   "language": "python",
   "name": "python3"
  },
  "language_info": {
   "codemirror_mode": {
    "name": "ipython",
    "version": 3
   },
   "file_extension": ".py",
   "mimetype": "text/x-python",
   "name": "python",
   "nbconvert_exporter": "python",
   "pygments_lexer": "ipython3",
   "version": "3.9.18"
  }
 },
 "nbformat": 4,
 "nbformat_minor": 2
}
